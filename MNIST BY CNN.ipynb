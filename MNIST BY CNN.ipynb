{
  "nbformat": 4,
  "nbformat_minor": 0,
  "metadata": {
    "colab": {
      "provenance": [],
      "authorship_tag": "ABX9TyNJxfx1CpjpSSPoEXv6RwhH",
      "include_colab_link": true
    },
    "kernelspec": {
      "name": "python3",
      "display_name": "Python 3"
    },
    "language_info": {
      "name": "python"
    }
  },
  "cells": [
    {
      "cell_type": "markdown",
      "metadata": {
        "id": "view-in-github",
        "colab_type": "text"
      },
      "source": [
        "<a href=\"https://colab.research.google.com/github/grantzhou123/mnist/blob/main/MNIST%20BY%20CNN.ipynb\" target=\"_parent\"><img src=\"https://colab.research.google.com/assets/colab-badge.svg\" alt=\"Open In Colab\"/></a>"
      ]
    },
    {
      "cell_type": "code",
      "execution_count": 1,
      "metadata": {
        "id": "nVTGvx18U0go"
      },
      "outputs": [],
      "source": [
        "import numpy as np\n",
        "import torch\n",
        "import torch.nn as nn\n",
        "import torch.nn.functional as F\n",
        "import torch.optim as optim\n",
        "from torchvision import datasets, transforms\n",
        "from torch.utils.data import DataLoader\n",
        "import matplotlib.pyplot as plt\n",
        "from sklearn.metrics import confusion_matrix, classification_report"
      ]
    },
    {
      "cell_type": "code",
      "source": [
        "# CNNモデルの定義\n",
        "class CNN(nn.Module):\n",
        "    def __init__(self):\n",
        "        super(CNN, self).__init__()\n",
        "        self.conv1 = nn.Conv2d(1, 32, kernel_size=5, stride=1, padding=2)\n",
        "        self.pool = nn.MaxPool2d(kernel_size=2, stride=2, padding=0)\n",
        "        self.conv2 = nn.Conv2d(32, 64, kernel_size=5, stride=1, padding=2)\n",
        "        self.fc1 = nn.Linear(64 * 7 * 7, 1000)\n",
        "        self.fc2 = nn.Linear(1000, 10)\n",
        "\n",
        "    def forward(self, x):\n",
        "        x = self.pool(F.relu(self.conv1(x)))\n",
        "        x = self.pool(F.relu(self.conv2(x)))\n",
        "        x = x.view(-1, 64 * 7 * 7)\n",
        "        x = F.relu(self.fc1(x))\n",
        "        x = self.fc2(x)\n",
        "        return x"
      ],
      "metadata": {
        "id": "QJGpVHqlVk9B"
      },
      "execution_count": 2,
      "outputs": []
    },
    {
      "cell_type": "code",
      "source": [
        "# データの準備\n",
        "transform = transforms.Compose([\n",
        "    transforms.ToTensor(),\n",
        "    transforms.Normalize((0.1307,), (0.3081,))  # MNISTのデータの平均と標準偏差に基づく正規化\n",
        "])"
      ],
      "metadata": {
        "id": "0t-4iyldYss1"
      },
      "execution_count": 3,
      "outputs": []
    },
    {
      "cell_type": "code",
      "source": [
        "# MNISTデータセットのロード\n",
        "train_dataset = datasets.MNIST(root='./data', train=True,\n",
        "                               transform=transform, download=True)\n",
        "test_dataset = datasets.MNIST(root='./data', train=False,\n",
        "                               transform=transform, download=True)\n",
        "\n",
        "# DataLoaderの設定\n",
        "train_loader = DataLoader(dataset=train_dataset, batch_size=64, shuffle=True)\n",
        "test_loader = DataLoader(dataset=test_dataset, batch_size=64, shuffle=False)"
      ],
      "metadata": {
        "colab": {
          "base_uri": "https://localhost:8080/"
        },
        "id": "iphSatoSZGG3",
        "outputId": "928eaf10-b05a-4a21-b082-415aabad272a"
      },
      "execution_count": 4,
      "outputs": [
        {
          "output_type": "stream",
          "name": "stdout",
          "text": [
            "Downloading http://yann.lecun.com/exdb/mnist/train-images-idx3-ubyte.gz\n",
            "Downloading http://yann.lecun.com/exdb/mnist/train-images-idx3-ubyte.gz to ./data/MNIST/raw/train-images-idx3-ubyte.gz\n"
          ]
        },
        {
          "output_type": "stream",
          "name": "stderr",
          "text": [
            "100%|██████████| 9912422/9912422 [00:00<00:00, 42144664.21it/s]\n"
          ]
        },
        {
          "output_type": "stream",
          "name": "stdout",
          "text": [
            "Extracting ./data/MNIST/raw/train-images-idx3-ubyte.gz to ./data/MNIST/raw\n",
            "\n",
            "Downloading http://yann.lecun.com/exdb/mnist/train-labels-idx1-ubyte.gz\n",
            "Downloading http://yann.lecun.com/exdb/mnist/train-labels-idx1-ubyte.gz to ./data/MNIST/raw/train-labels-idx1-ubyte.gz\n"
          ]
        },
        {
          "output_type": "stream",
          "name": "stderr",
          "text": [
            "100%|██████████| 28881/28881 [00:00<00:00, 24616072.71it/s]"
          ]
        },
        {
          "output_type": "stream",
          "name": "stdout",
          "text": [
            "Extracting ./data/MNIST/raw/train-labels-idx1-ubyte.gz to ./data/MNIST/raw\n",
            "\n",
            "Downloading http://yann.lecun.com/exdb/mnist/t10k-images-idx3-ubyte.gz\n"
          ]
        },
        {
          "output_type": "stream",
          "name": "stderr",
          "text": [
            "\n"
          ]
        },
        {
          "output_type": "stream",
          "name": "stdout",
          "text": [
            "Downloading http://yann.lecun.com/exdb/mnist/t10k-images-idx3-ubyte.gz to ./data/MNIST/raw/t10k-images-idx3-ubyte.gz\n"
          ]
        },
        {
          "output_type": "stream",
          "name": "stderr",
          "text": [
            "100%|██████████| 1648877/1648877 [00:00<00:00, 11216862.86it/s]\n"
          ]
        },
        {
          "output_type": "stream",
          "name": "stdout",
          "text": [
            "Extracting ./data/MNIST/raw/t10k-images-idx3-ubyte.gz to ./data/MNIST/raw\n",
            "\n",
            "Downloading http://yann.lecun.com/exdb/mnist/t10k-labels-idx1-ubyte.gz\n",
            "Downloading http://yann.lecun.com/exdb/mnist/t10k-labels-idx1-ubyte.gz to ./data/MNIST/raw/t10k-labels-idx1-ubyte.gz\n"
          ]
        },
        {
          "output_type": "stream",
          "name": "stderr",
          "text": [
            "100%|██████████| 4542/4542 [00:00<00:00, 3564844.46it/s]"
          ]
        },
        {
          "output_type": "stream",
          "name": "stdout",
          "text": [
            "Extracting ./data/MNIST/raw/t10k-labels-idx1-ubyte.gz to ./data/MNIST/raw\n",
            "\n"
          ]
        },
        {
          "output_type": "stream",
          "name": "stderr",
          "text": [
            "\n"
          ]
        }
      ]
    },
    {
      "cell_type": "code",
      "source": [
        "# デバイスの設定\n",
        "device = torch.device('cuda' if torch.cuda.is_available() else 'cpu')"
      ],
      "metadata": {
        "id": "v2w4RWLQZOGH"
      },
      "execution_count": 5,
      "outputs": []
    },
    {
      "cell_type": "code",
      "source": [
        "# モデル、損失関数、最適化手法の設定\n",
        "model = CNN().to(device)\n",
        "criterion = nn.CrossEntropyLoss()\n",
        "optimizer = optim.SGD(model.parameters(), lr=1e-3)\n",
        "\n",
        "# 学習率スケジューラの設定（オプショナル）\n",
        "scheduler = optim.lr_scheduler.StepLR(optimizer, step_size=1, gamma=0.7)"
      ],
      "metadata": {
        "id": "tDmBY8BXZl7F"
      },
      "execution_count": 6,
      "outputs": []
    },
    {
      "cell_type": "code",
      "source": [
        "# 訓練ループ\n",
        "num_epochs = 10\n",
        "for epoch in range(num_epochs):\n",
        "    model.train()  # 訓練モードに設定\n",
        "    loss_epoch = 0.0\n",
        "    for data in train_loader:\n",
        "        img, label = data\n",
        "        img, label = img.to(device), label.to(device)\n",
        "        output = model(img)\n",
        "        loss = criterion(output, label)\n",
        "        optimizer.zero_grad()\n",
        "        loss.backward()\n",
        "        optimizer.step()\n",
        "        loss_epoch += loss.item()\n",
        "    scheduler.step()  # 学習率の更新\n",
        "    print(f'Epoch: {epoch+1}/{num_epochs}, Loss: {loss_epoch:.4f}')"
      ],
      "metadata": {
        "colab": {
          "base_uri": "https://localhost:8080/"
        },
        "id": "grOfZQNXZwXu",
        "outputId": "813c377b-45b7-42e9-cd1f-deaa73ed1513"
      },
      "execution_count": 7,
      "outputs": [
        {
          "output_type": "stream",
          "name": "stdout",
          "text": [
            "Epoch: 1/10, Loss: 1642.2933\n",
            "Epoch: 2/10, Loss: 551.7734\n",
            "Epoch: 3/10, Loss: 372.6508\n",
            "Epoch: 4/10, Loss: 324.4454\n",
            "Epoch: 5/10, Loss: 301.9901\n",
            "Epoch: 6/10, Loss: 289.1421\n",
            "Epoch: 7/10, Loss: 281.0123\n",
            "Epoch: 8/10, Loss: 275.8249\n",
            "Epoch: 9/10, Loss: 272.5162\n",
            "Epoch: 10/10, Loss: 269.9552\n"
          ]
        }
      ]
    },
    {
      "cell_type": "code",
      "source": [
        "# モデルの保存\n",
        "torch.save(model.state_dict(), 'mnist_cnn.pth')"
      ],
      "metadata": {
        "id": "xe8l5rosZ2F1"
      },
      "execution_count": 8,
      "outputs": []
    },
    {
      "cell_type": "code",
      "source": [
        "# 訓練データとテストデータでのモデルの評価\n",
        "def evaluate_model(loader):\n",
        "    model.eval()  # 評価モードに設定\n",
        "    labels_true = []\n",
        "    labels_pred = []\n",
        "    with torch.no_grad():\n",
        "        for img, label in loader:\n",
        "            labels_true.extend(label.numpy())\n",
        "            img, label = img.to(device), label.to(device)\n",
        "            output = model(img)\n",
        "            _, pred = torch.max(output.data, 1)\n",
        "            pred = pred.cpu().numpy()\n",
        "            labels_pred.extend(pred)\n",
        "    print(confusion_matrix(labels_true, labels_pred))\n",
        "    print(classification_report(labels_true, labels_pred))"
      ],
      "metadata": {
        "id": "72FWJTczZ6wP"
      },
      "execution_count": 9,
      "outputs": []
    },
    {
      "cell_type": "code",
      "source": [
        "print(\"訓練データでの評価:\")\n",
        "evaluate_model(train_loader)"
      ],
      "metadata": {
        "colab": {
          "base_uri": "https://localhost:8080/"
        },
        "id": "zt1uJeWkZ_8A",
        "outputId": "a934ded2-ae7b-4d14-94a6-5d38b6eab831"
      },
      "execution_count": 10,
      "outputs": [
        {
          "output_type": "stream",
          "name": "stdout",
          "text": [
            "訓練データでの評価:\n",
            "[[5709    4   16   12    6   38   47    9   74    8]\n",
            " [   1 6531   56   26    9   36    7   13   54    9]\n",
            " [  46   36 5332   83  131   14   87  100  116   13]\n",
            " [  22   47  128 5456    6  197   18   85  116   56]\n",
            " [   5   21   59    2 5331    2   88   13   33  288]\n",
            " [  42   42   34  140   92 4867   73   15   73   43]\n",
            " [  45   55   32    0   42   92 5623    2   27    0]\n",
            " [  17   55  103   17   51   13    0 5769   10  230]\n",
            " [  23  123   49  151   41  107   26   19 5204  108]\n",
            " [  36   38   44   97  156   20    3  182   51 5322]]\n",
            "              precision    recall  f1-score   support\n",
            "\n",
            "           0       0.96      0.96      0.96      5923\n",
            "           1       0.94      0.97      0.95      6742\n",
            "           2       0.91      0.89      0.90      5958\n",
            "           3       0.91      0.89      0.90      6131\n",
            "           4       0.91      0.91      0.91      5842\n",
            "           5       0.90      0.90      0.90      5421\n",
            "           6       0.94      0.95      0.95      5918\n",
            "           7       0.93      0.92      0.93      6265\n",
            "           8       0.90      0.89      0.90      5851\n",
            "           9       0.88      0.89      0.89      5949\n",
            "\n",
            "    accuracy                           0.92     60000\n",
            "   macro avg       0.92      0.92      0.92     60000\n",
            "weighted avg       0.92      0.92      0.92     60000\n",
            "\n"
          ]
        }
      ]
    },
    {
      "cell_type": "code",
      "source": [
        "print(\"テストデータでの評価:\")\n",
        "evaluate_model(test_loader)"
      ],
      "metadata": {
        "colab": {
          "base_uri": "https://localhost:8080/"
        },
        "id": "dvaDXHNWaDtb",
        "outputId": "63a572eb-9c45-486d-fff1-db93e1c720f0"
      },
      "execution_count": 11,
      "outputs": [
        {
          "output_type": "stream",
          "name": "stdout",
          "text": [
            "テストデータでの評価:\n",
            "[[ 961    0    0    0    0    4    8    1    6    0]\n",
            " [   0 1110    4    3    1    1    3    0   13    0]\n",
            " [  10    1  930   15   14    1   13   18   28    2]\n",
            " [   3    2   20  925    0   20    0   15   19    6]\n",
            " [   1    3    5    0  906    0   16    1    5   45]\n",
            " [   8    3    5   31   11  799   12    1   17    5]\n",
            " [  12    6    3    1   11   20  905    0    0    0]\n",
            " [   0   11   27    4    7    1    0  927    4   47]\n",
            " [   7    7    6   22   12   17    5   11  874   13]\n",
            " [   7    6    7   10   24   10    0   17    8  920]]\n",
            "              precision    recall  f1-score   support\n",
            "\n",
            "           0       0.95      0.98      0.97       980\n",
            "           1       0.97      0.98      0.97      1135\n",
            "           2       0.92      0.90      0.91      1032\n",
            "           3       0.91      0.92      0.92      1010\n",
            "           4       0.92      0.92      0.92       982\n",
            "           5       0.92      0.90      0.91       892\n",
            "           6       0.94      0.94      0.94       958\n",
            "           7       0.94      0.90      0.92      1028\n",
            "           8       0.90      0.90      0.90       974\n",
            "           9       0.89      0.91      0.90      1009\n",
            "\n",
            "    accuracy                           0.93     10000\n",
            "   macro avg       0.93      0.92      0.92     10000\n",
            "weighted avg       0.93      0.93      0.93     10000\n",
            "\n"
          ]
        }
      ]
    },
    {
      "cell_type": "code",
      "source": [
        "# 単一画像に対するモデルの予測を表示する関数\n",
        "def show_prediction_example(loader):\n",
        "    model.eval()  # 評価モードに設定\n",
        "    images, labels = next(iter(loader))  # データローダーから一批のデータを取得\n",
        "\n",
        "    # GPUが利用可能な場合は、画像をGPUに移動\n",
        "    images, labels = images.to(device), labels.to(device)\n",
        "    output = model(images)  # モデルで予測\n",
        "    _, preds = torch.max(output, 1)  # 最も高い確率を持つクラスを予測ラベルとして選択\n",
        "\n",
        "    # 予測結果の表示\n",
        "    plt.figure(figsize=(10, 4))\n",
        "    for idx in np.arange(4):  # 最初の4つの画像と予測ラベルを表示\n",
        "        ax = plt.subplot(1, 4, idx+1)\n",
        "        img = images[idx].cpu().numpy().squeeze()  # 画像を表示用に変換\n",
        "        ax.imshow(img, cmap='gray')\n",
        "        ax.set_title(f\"Predicted: {preds[idx].item()}\", color=(\"green\" if preds[idx]==labels[idx] else \"red\"))\n",
        "        ax.axis('off')\n",
        "    plt.show()\n",
        "\n",
        "# テストデータローダーを使用して予渲例を表示\n",
        "show_prediction_example(test_loader)\n"
      ],
      "metadata": {
        "colab": {
          "base_uri": "https://localhost:8080/",
          "height": 227
        },
        "id": "DZ4_YMceEZEc",
        "outputId": "7a31f0e6-7f66-4d14-b99f-01ae8890f7d6"
      },
      "execution_count": 12,
      "outputs": [
        {
          "output_type": "display_data",
          "data": {
            "text/plain": [
              "<Figure size 1000x400 with 4 Axes>"
            ],
            "image/png": "[encoded data removed]"
          },
          "metadata": {}
        }
      ]
    }
  ]
}